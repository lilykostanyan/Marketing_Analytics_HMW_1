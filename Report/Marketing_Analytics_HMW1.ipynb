{
  "nbformat": 4,
  "nbformat_minor": 0,
  "metadata": {
    "colab": {
      "provenance": [],
      "machine_shape": "hm"
    },
    "kernelspec": {
      "name": "python3",
      "display_name": "Python 3"
    },
    "language_info": {
      "name": "python"
    }
  },
  "cells": [
    {
      "cell_type": "markdown",
      "source": [
        "# Marketing Analytics Homework 1 - Lili Kostanyan"
      ],
      "metadata": {
        "id": "YSZy43ika2X3"
      }
    },
    {
      "cell_type": "markdown",
      "source": [
        "# Comparison of the Ember Baby Bottle System Plus and Traditional Baby Bottles\n",
        "\n",
        "### Innovation from the list - Ember Baby Bottle System Plus\n",
        "\n",
        "### Similar innovation from the past - Traditional baby feeding bottles\n",
        "\n",
        "The **Ember Baby Bottle System Plus** can be compared to traditional baby feeding bottles, which have evolved significantly since the first glass nursing bottle was patented by **C. M. Windship in 1841** in the United States. Early bottles, typically holding 8 to 16 ounces, were basic and lacked the advanced materials or features seen in today’s bottles. **Elijah Pratt patented the first rubber nipple in 1845**, but these early versions had strong odors and degraded easily in hot water. Parents often used cloths over the bottle ends to compensate. The challenges of artificial feeding at the time, including high infant mortality, pushed scientists to develop nutritional formulas, leading to the creation of modern infant formula substitutes.\n",
        "\n",
        "Traditionally, parents heated bottles by immersing them in hot water or using electric warmers. The **Ember Baby Bottle System Plus** builds on this by integrating an app-controlled, portable warming system that maintains the bottle’s temperature for hours. This eliminates the need for immersion in hot water and provides a safer, more convenient option for feeding.\n",
        "\n",
        "By combining the historic function of baby bottles with modern technology, the Ember system offers a much-needed improvement in convenience for today’s parents."
      ],
      "metadata": {
        "id": "xWpXtfBCa-qV"
      }
    },
    {
      "cell_type": "code",
      "source": [
        "# Load necessary libraries\n",
        "import pandas as pd\n",
        "import numpy as np\n",
        "from google.colab import drive\n",
        "import matplotlib.pyplot as plt\n",
        "from scipy.optimize import curve_fit\n"
      ],
      "metadata": {
        "id": "XaXhr_l-ddXm"
      },
      "execution_count": null,
      "outputs": []
    },
    {
      "cell_type": "code",
      "source": [
        "drive.mount('/content/drive')\n"
      ],
      "metadata": {
        "colab": {
          "base_uri": "https://localhost:8080/"
        },
        "id": "0r2j1rvxeDZQ",
        "outputId": "3c623f9b-b80c-420f-c54c-3cfd659b398f"
      },
      "execution_count": null,
      "outputs": [
        {
          "output_type": "stream",
          "name": "stdout",
          "text": [
            "Drive already mounted at /content/drive; to attempt to forcibly remount, call drive.mount(\"/content/drive\", force_remount=True).\n"
          ]
        }
      ]
    },
    {
      "cell_type": "code",
      "source": [
        "\n",
        "!cp /content/drive/MyDrive/statistic_id761262_infant_feeding_bottle_market_size_in_china_2013.xlsx /content/\n"
      ],
      "metadata": {
        "id": "QHVBWb5TS6w0"
      },
      "execution_count": null,
      "outputs": []
    },
    {
      "cell_type": "code",
      "source": [
        "# Set the file path (adjust this to match your file location in Drive)\n",
        "file_path = 'statistic_id761262_infant_feeding_bottle_market_size_in_china_2013.xlsx'\n",
        "\n",
        "data = pd.read_excel(file_path, sheet_name=1, skiprows=5, usecols=\"B:C\", header=None)\n",
        "\n",
        "data.columns = ['Year', 'Market Size (Billion Yuan)']\n",
        "\n",
        "# Display the data\n",
        "data\n"
      ],
      "metadata": {
        "colab": {
          "base_uri": "https://localhost:8080/",
          "height": 359
        },
        "id": "Z9AwwZbkbGnw",
        "outputId": "76032340-6217-4f66-cd81-e080b5ff25e3"
      },
      "execution_count": null,
      "outputs": [
        {
          "output_type": "execute_result",
          "data": {
            "text/plain": [
              "   Year  Market Size (Billion Yuan)\n",
              "0  2013                        2.20\n",
              "1  2014                        2.70\n",
              "2  2015                        3.30\n",
              "3  2016                        4.10\n",
              "4  2017                        4.92\n",
              "5  2018                        5.63\n",
              "6  2019                        6.13\n",
              "7  2020                        6.41\n",
              "8  2021                        6.58\n",
              "9  2022                        6.65"
            ],
            "text/html": [
              "\n",
              "  <div id=\"df-cb00eb02-a570-427f-9c3c-9897f624e11e\" class=\"colab-df-container\">\n",
              "    <div>\n",
              "<style scoped>\n",
              "    .dataframe tbody tr th:only-of-type {\n",
              "        vertical-align: middle;\n",
              "    }\n",
              "\n",
              "    .dataframe tbody tr th {\n",
              "        vertical-align: top;\n",
              "    }\n",
              "\n",
              "    .dataframe thead th {\n",
              "        text-align: right;\n",
              "    }\n",
              "</style>\n",
              "<table border=\"1\" class=\"dataframe\">\n",
              "  <thead>\n",
              "    <tr style=\"text-align: right;\">\n",
              "      <th></th>\n",
              "      <th>Year</th>\n",
              "      <th>Market Size (Billion Yuan)</th>\n",
              "    </tr>\n",
              "  </thead>\n",
              "  <tbody>\n",
              "    <tr>\n",
              "      <th>0</th>\n",
              "      <td>2013</td>\n",
              "      <td>2.20</td>\n",
              "    </tr>\n",
              "    <tr>\n",
              "      <th>1</th>\n",
              "      <td>2014</td>\n",
              "      <td>2.70</td>\n",
              "    </tr>\n",
              "    <tr>\n",
              "      <th>2</th>\n",
              "      <td>2015</td>\n",
              "      <td>3.30</td>\n",
              "    </tr>\n",
              "    <tr>\n",
              "      <th>3</th>\n",
              "      <td>2016</td>\n",
              "      <td>4.10</td>\n",
              "    </tr>\n",
              "    <tr>\n",
              "      <th>4</th>\n",
              "      <td>2017</td>\n",
              "      <td>4.92</td>\n",
              "    </tr>\n",
              "    <tr>\n",
              "      <th>5</th>\n",
              "      <td>2018</td>\n",
              "      <td>5.63</td>\n",
              "    </tr>\n",
              "    <tr>\n",
              "      <th>6</th>\n",
              "      <td>2019</td>\n",
              "      <td>6.13</td>\n",
              "    </tr>\n",
              "    <tr>\n",
              "      <th>7</th>\n",
              "      <td>2020</td>\n",
              "      <td>6.41</td>\n",
              "    </tr>\n",
              "    <tr>\n",
              "      <th>8</th>\n",
              "      <td>2021</td>\n",
              "      <td>6.58</td>\n",
              "    </tr>\n",
              "    <tr>\n",
              "      <th>9</th>\n",
              "      <td>2022</td>\n",
              "      <td>6.65</td>\n",
              "    </tr>\n",
              "  </tbody>\n",
              "</table>\n",
              "</div>\n",
              "    <div class=\"colab-df-buttons\">\n",
              "\n",
              "  <div class=\"colab-df-container\">\n",
              "    <button class=\"colab-df-convert\" onclick=\"convertToInteractive('df-cb00eb02-a570-427f-9c3c-9897f624e11e')\"\n",
              "            title=\"Convert this dataframe to an interactive table.\"\n",
              "            style=\"display:none;\">\n",
              "\n",
              "  <svg xmlns=\"http://www.w3.org/2000/svg\" height=\"24px\" viewBox=\"0 -960 960 960\">\n",
              "    <path d=\"M120-120v-720h720v720H120Zm60-500h600v-160H180v160Zm220 220h160v-160H400v160Zm0 220h160v-160H400v160ZM180-400h160v-160H180v160Zm440 0h160v-160H620v160ZM180-180h160v-160H180v160Zm440 0h160v-160H620v160Z\"/>\n",
              "  </svg>\n",
              "    </button>\n",
              "\n",
              "  <style>\n",
              "    .colab-df-container {\n",
              "      display:flex;\n",
              "      gap: 12px;\n",
              "    }\n",
              "\n",
              "    .colab-df-convert {\n",
              "      background-color: #E8F0FE;\n",
              "      border: none;\n",
              "      border-radius: 50%;\n",
              "      cursor: pointer;\n",
              "      display: none;\n",
              "      fill: #1967D2;\n",
              "      height: 32px;\n",
              "      padding: 0 0 0 0;\n",
              "      width: 32px;\n",
              "    }\n",
              "\n",
              "    .colab-df-convert:hover {\n",
              "      background-color: #E2EBFA;\n",
              "      box-shadow: 0px 1px 2px rgba(60, 64, 67, 0.3), 0px 1px 3px 1px rgba(60, 64, 67, 0.15);\n",
              "      fill: #174EA6;\n",
              "    }\n",
              "\n",
              "    .colab-df-buttons div {\n",
              "      margin-bottom: 4px;\n",
              "    }\n",
              "\n",
              "    [theme=dark] .colab-df-convert {\n",
              "      background-color: #3B4455;\n",
              "      fill: #D2E3FC;\n",
              "    }\n",
              "\n",
              "    [theme=dark] .colab-df-convert:hover {\n",
              "      background-color: #434B5C;\n",
              "      box-shadow: 0px 1px 3px 1px rgba(0, 0, 0, 0.15);\n",
              "      filter: drop-shadow(0px 1px 2px rgba(0, 0, 0, 0.3));\n",
              "      fill: #FFFFFF;\n",
              "    }\n",
              "  </style>\n",
              "\n",
              "    <script>\n",
              "      const buttonEl =\n",
              "        document.querySelector('#df-cb00eb02-a570-427f-9c3c-9897f624e11e button.colab-df-convert');\n",
              "      buttonEl.style.display =\n",
              "        google.colab.kernel.accessAllowed ? 'block' : 'none';\n",
              "\n",
              "      async function convertToInteractive(key) {\n",
              "        const element = document.querySelector('#df-cb00eb02-a570-427f-9c3c-9897f624e11e');\n",
              "        const dataTable =\n",
              "          await google.colab.kernel.invokeFunction('convertToInteractive',\n",
              "                                                    [key], {});\n",
              "        if (!dataTable) return;\n",
              "\n",
              "        const docLinkHtml = 'Like what you see? Visit the ' +\n",
              "          '<a target=\"_blank\" href=https://colab.research.google.com/notebooks/data_table.ipynb>data table notebook</a>'\n",
              "          + ' to learn more about interactive tables.';\n",
              "        element.innerHTML = '';\n",
              "        dataTable['output_type'] = 'display_data';\n",
              "        await google.colab.output.renderOutput(dataTable, element);\n",
              "        const docLink = document.createElement('div');\n",
              "        docLink.innerHTML = docLinkHtml;\n",
              "        element.appendChild(docLink);\n",
              "      }\n",
              "    </script>\n",
              "  </div>\n",
              "\n",
              "\n",
              "<div id=\"df-0b94d658-9b9a-49cc-8287-ab366349ff0c\">\n",
              "  <button class=\"colab-df-quickchart\" onclick=\"quickchart('df-0b94d658-9b9a-49cc-8287-ab366349ff0c')\"\n",
              "            title=\"Suggest charts\"\n",
              "            style=\"display:none;\">\n",
              "\n",
              "<svg xmlns=\"http://www.w3.org/2000/svg\" height=\"24px\"viewBox=\"0 0 24 24\"\n",
              "     width=\"24px\">\n",
              "    <g>\n",
              "        <path d=\"M19 3H5c-1.1 0-2 .9-2 2v14c0 1.1.9 2 2 2h14c1.1 0 2-.9 2-2V5c0-1.1-.9-2-2-2zM9 17H7v-7h2v7zm4 0h-2V7h2v10zm4 0h-2v-4h2v4z\"/>\n",
              "    </g>\n",
              "</svg>\n",
              "  </button>\n",
              "\n",
              "<style>\n",
              "  .colab-df-quickchart {\n",
              "      --bg-color: #E8F0FE;\n",
              "      --fill-color: #1967D2;\n",
              "      --hover-bg-color: #E2EBFA;\n",
              "      --hover-fill-color: #174EA6;\n",
              "      --disabled-fill-color: #AAA;\n",
              "      --disabled-bg-color: #DDD;\n",
              "  }\n",
              "\n",
              "  [theme=dark] .colab-df-quickchart {\n",
              "      --bg-color: #3B4455;\n",
              "      --fill-color: #D2E3FC;\n",
              "      --hover-bg-color: #434B5C;\n",
              "      --hover-fill-color: #FFFFFF;\n",
              "      --disabled-bg-color: #3B4455;\n",
              "      --disabled-fill-color: #666;\n",
              "  }\n",
              "\n",
              "  .colab-df-quickchart {\n",
              "    background-color: var(--bg-color);\n",
              "    border: none;\n",
              "    border-radius: 50%;\n",
              "    cursor: pointer;\n",
              "    display: none;\n",
              "    fill: var(--fill-color);\n",
              "    height: 32px;\n",
              "    padding: 0;\n",
              "    width: 32px;\n",
              "  }\n",
              "\n",
              "  .colab-df-quickchart:hover {\n",
              "    background-color: var(--hover-bg-color);\n",
              "    box-shadow: 0 1px 2px rgba(60, 64, 67, 0.3), 0 1px 3px 1px rgba(60, 64, 67, 0.15);\n",
              "    fill: var(--button-hover-fill-color);\n",
              "  }\n",
              "\n",
              "  .colab-df-quickchart-complete:disabled,\n",
              "  .colab-df-quickchart-complete:disabled:hover {\n",
              "    background-color: var(--disabled-bg-color);\n",
              "    fill: var(--disabled-fill-color);\n",
              "    box-shadow: none;\n",
              "  }\n",
              "\n",
              "  .colab-df-spinner {\n",
              "    border: 2px solid var(--fill-color);\n",
              "    border-color: transparent;\n",
              "    border-bottom-color: var(--fill-color);\n",
              "    animation:\n",
              "      spin 1s steps(1) infinite;\n",
              "  }\n",
              "\n",
              "  @keyframes spin {\n",
              "    0% {\n",
              "      border-color: transparent;\n",
              "      border-bottom-color: var(--fill-color);\n",
              "      border-left-color: var(--fill-color);\n",
              "    }\n",
              "    20% {\n",
              "      border-color: transparent;\n",
              "      border-left-color: var(--fill-color);\n",
              "      border-top-color: var(--fill-color);\n",
              "    }\n",
              "    30% {\n",
              "      border-color: transparent;\n",
              "      border-left-color: var(--fill-color);\n",
              "      border-top-color: var(--fill-color);\n",
              "      border-right-color: var(--fill-color);\n",
              "    }\n",
              "    40% {\n",
              "      border-color: transparent;\n",
              "      border-right-color: var(--fill-color);\n",
              "      border-top-color: var(--fill-color);\n",
              "    }\n",
              "    60% {\n",
              "      border-color: transparent;\n",
              "      border-right-color: var(--fill-color);\n",
              "    }\n",
              "    80% {\n",
              "      border-color: transparent;\n",
              "      border-right-color: var(--fill-color);\n",
              "      border-bottom-color: var(--fill-color);\n",
              "    }\n",
              "    90% {\n",
              "      border-color: transparent;\n",
              "      border-bottom-color: var(--fill-color);\n",
              "    }\n",
              "  }\n",
              "</style>\n",
              "\n",
              "  <script>\n",
              "    async function quickchart(key) {\n",
              "      const quickchartButtonEl =\n",
              "        document.querySelector('#' + key + ' button');\n",
              "      quickchartButtonEl.disabled = true;  // To prevent multiple clicks.\n",
              "      quickchartButtonEl.classList.add('colab-df-spinner');\n",
              "      try {\n",
              "        const charts = await google.colab.kernel.invokeFunction(\n",
              "            'suggestCharts', [key], {});\n",
              "      } catch (error) {\n",
              "        console.error('Error during call to suggestCharts:', error);\n",
              "      }\n",
              "      quickchartButtonEl.classList.remove('colab-df-spinner');\n",
              "      quickchartButtonEl.classList.add('colab-df-quickchart-complete');\n",
              "    }\n",
              "    (() => {\n",
              "      let quickchartButtonEl =\n",
              "        document.querySelector('#df-0b94d658-9b9a-49cc-8287-ab366349ff0c button');\n",
              "      quickchartButtonEl.style.display =\n",
              "        google.colab.kernel.accessAllowed ? 'block' : 'none';\n",
              "    })();\n",
              "  </script>\n",
              "</div>\n",
              "\n",
              "  <div id=\"id_846c0d82-9e89-4b79-bfb8-8c1d7311677b\">\n",
              "    <style>\n",
              "      .colab-df-generate {\n",
              "        background-color: #E8F0FE;\n",
              "        border: none;\n",
              "        border-radius: 50%;\n",
              "        cursor: pointer;\n",
              "        display: none;\n",
              "        fill: #1967D2;\n",
              "        height: 32px;\n",
              "        padding: 0 0 0 0;\n",
              "        width: 32px;\n",
              "      }\n",
              "\n",
              "      .colab-df-generate:hover {\n",
              "        background-color: #E2EBFA;\n",
              "        box-shadow: 0px 1px 2px rgba(60, 64, 67, 0.3), 0px 1px 3px 1px rgba(60, 64, 67, 0.15);\n",
              "        fill: #174EA6;\n",
              "      }\n",
              "\n",
              "      [theme=dark] .colab-df-generate {\n",
              "        background-color: #3B4455;\n",
              "        fill: #D2E3FC;\n",
              "      }\n",
              "\n",
              "      [theme=dark] .colab-df-generate:hover {\n",
              "        background-color: #434B5C;\n",
              "        box-shadow: 0px 1px 3px 1px rgba(0, 0, 0, 0.15);\n",
              "        filter: drop-shadow(0px 1px 2px rgba(0, 0, 0, 0.3));\n",
              "        fill: #FFFFFF;\n",
              "      }\n",
              "    </style>\n",
              "    <button class=\"colab-df-generate\" onclick=\"generateWithVariable('data')\"\n",
              "            title=\"Generate code using this dataframe.\"\n",
              "            style=\"display:none;\">\n",
              "\n",
              "  <svg xmlns=\"http://www.w3.org/2000/svg\" height=\"24px\"viewBox=\"0 0 24 24\"\n",
              "       width=\"24px\">\n",
              "    <path d=\"M7,19H8.4L18.45,9,17,7.55,7,17.6ZM5,21V16.75L18.45,3.32a2,2,0,0,1,2.83,0l1.4,1.43a1.91,1.91,0,0,1,.58,1.4,1.91,1.91,0,0,1-.58,1.4L9.25,21ZM18.45,9,17,7.55Zm-12,3A5.31,5.31,0,0,0,4.9,8.1,5.31,5.31,0,0,0,1,6.5,5.31,5.31,0,0,0,4.9,4.9,5.31,5.31,0,0,0,6.5,1,5.31,5.31,0,0,0,8.1,4.9,5.31,5.31,0,0,0,12,6.5,5.46,5.46,0,0,0,6.5,12Z\"/>\n",
              "  </svg>\n",
              "    </button>\n",
              "    <script>\n",
              "      (() => {\n",
              "      const buttonEl =\n",
              "        document.querySelector('#id_846c0d82-9e89-4b79-bfb8-8c1d7311677b button.colab-df-generate');\n",
              "      buttonEl.style.display =\n",
              "        google.colab.kernel.accessAllowed ? 'block' : 'none';\n",
              "\n",
              "      buttonEl.onclick = () => {\n",
              "        google.colab.notebook.generateWithVariable('data');\n",
              "      }\n",
              "      })();\n",
              "    </script>\n",
              "  </div>\n",
              "\n",
              "    </div>\n",
              "  </div>\n"
            ],
            "application/vnd.google.colaboratory.intrinsic+json": {
              "type": "dataframe",
              "variable_name": "data",
              "summary": "{\n  \"name\": \"data\",\n  \"rows\": 10,\n  \"fields\": [\n    {\n      \"column\": \"Year\",\n      \"properties\": {\n        \"dtype\": \"number\",\n        \"std\": 3,\n        \"min\": 2013,\n        \"max\": 2022,\n        \"num_unique_values\": 10,\n        \"samples\": [\n          2021,\n          2014,\n          2018\n        ],\n        \"semantic_type\": \"\",\n        \"description\": \"\"\n      }\n    },\n    {\n      \"column\": \"Market Size (Billion Yuan)\",\n      \"properties\": {\n        \"dtype\": \"number\",\n        \"std\": 1.68413380307702,\n        \"min\": 2.2,\n        \"max\": 6.65,\n        \"num_unique_values\": 10,\n        \"samples\": [\n          6.58,\n          2.7,\n          5.63\n        ],\n        \"semantic_type\": \"\",\n        \"description\": \"\"\n      }\n    }\n  ]\n}"
            }
          },
          "metadata": {},
          "execution_count": 4
        }
      ]
    },
    {
      "source": [
        "# @title Market Size Trend Over Time\n",
        "\n",
        "plt.figure(figsize=(10, 6))\n",
        "plt.grid(True)\n",
        "plt.plot(data['Year'], data['Market Size (Billion Yuan)'], marker='o', linestyle='-', color='b')\n",
        "plt.xlabel('Year')\n",
        "plt.xticks(data['Year'], rotation=45)\n",
        "plt.ylabel('Market Size (Billion Yuan)')\n",
        "_ = plt.title('Market Size Trend Over Time')\n"
      ],
      "cell_type": "code",
      "execution_count": null,
      "outputs": [
        {
          "output_type": "display_data",
          "data": {
            "text/plain": [
              "<Figure size 1000x600 with 1 Axes>"
            ],
            "image/png": "[encoded data removed]"
          },
          "metadata": {}
        }
      ],
      "metadata": {
        "colab": {
          "base_uri": "https://localhost:8080/",
          "height": 585
        },
        "id": "d5fzRY5tg2te",
        "outputId": "07c2be67-4541-43f2-ac60-7d41beb9b8d4"
      }
    },
    {
      "cell_type": "markdown",
      "source": [
        "## This statistic displays the market size of the baby feeding bottle market in China from 2013 to 2022. In 2022, the Chinese infant feeding bottle market size amounted to 6.65 billion yuan, increasing from 6.58 billion yuan in the previous year (2021). \"One yuan equals approximately 0.15 U.S. dollars and 0.143 euros (as of April 2023)."
      ],
      "metadata": {
        "id": "PDUPBKc4hJI1"
      }
    },
    {
      "cell_type": "markdown",
      "source": [
        "The price of the Ember Baby Bottle System Plus is approximately 1,866.60 yuan."
      ],
      "metadata": {
        "id": "qDiJ7GgNp-YB"
      }
    },
    {
      "cell_type": "markdown",
      "source": [
        "## In our case, since it is annual market size data, we first need to convert it into cumulative form before applying the Bass model. This conversion is essential because the Bass model is based on the idea of tracking cumulative adoption over time."
      ],
      "metadata": {
        "id": "mOn-4fsq24cx"
      }
    },
    {
      "cell_type": "code",
      "source": [
        "# Calculate cumulative market size\n",
        "data['Cumulative Market Size (Billion Yuan)'] = data['Market Size (Billion Yuan)'].cumsum()\n",
        "\n",
        "# Display the cumulative market size\n",
        "print(data)\n"
      ],
      "metadata": {
        "colab": {
          "base_uri": "https://localhost:8080/"
        },
        "id": "ZPvbkSro3C-F",
        "outputId": "e3e1ce83-06f3-4e21-989c-a61098ef90a6"
      },
      "execution_count": null,
      "outputs": [
        {
          "output_type": "stream",
          "name": "stdout",
          "text": [
            "   Year  Market Size (Billion Yuan)  Cumulative Market Size (Billion Yuan)\n",
            "0  2013                        2.20                                   2.20\n",
            "1  2014                        2.70                                   4.90\n",
            "2  2015                        3.30                                   8.20\n",
            "3  2016                        4.10                                  12.30\n",
            "4  2017                        4.92                                  17.22\n",
            "5  2018                        5.63                                  22.85\n",
            "6  2019                        6.13                                  28.98\n",
            "7  2020                        6.41                                  35.39\n",
            "8  2021                        6.58                                  41.97\n",
            "9  2022                        6.65                                  48.62\n"
          ]
        }
      ]
    },
    {
      "cell_type": "markdown",
      "source": [
        "The cumulative market size for each year is simply the sum of all previous years' market sizes. This gives you the total adoption (or total market size) up to each year."
      ],
      "metadata": {
        "id": "yr0rX5q94jVz"
      }
    },
    {
      "cell_type": "markdown",
      "source": [
        "For example:\n",
        "\n",
        "Cumulative Market Size (2014) = Market Size\n",
        "(2013) + Market Size (2014) = 2.20 + 2.70 = 4.90 billion yuan"
      ],
      "metadata": {
        "id": "0vL-DZKf5TlK"
      }
    },
    {
      "cell_type": "markdown",
      "source": [
        "# Estimate Bass Model Parameters"
      ],
      "metadata": {
        "id": "NhOpLXSr0MAx"
      }
    },
    {
      "cell_type": "code",
      "source": [
        "# Define the Bass model function\n",
        "def bass_model(t, p, q, M):\n",
        "    adoption = M * ((p + q)**2 / p) * np.exp(-(p + q) * t) / ((1 + (q / p) * np.exp(-(p + q) * t))**2)\n",
        "    return adoption\n",
        "\n",
        "# Time series data (e.g., Year) and cumulative market size data\n",
        "t = np.array(data['Year'] - data['Year'].min())  # Time periods\n",
        "cum_sales = np.array(data['Cumulative Market Size (Billion Yuan)'])  # Cumulative adoption data\n",
        "\n",
        "# Estimate p, q, M using curve_fit\n",
        "popt, pcov = curve_fit(bass_model, t, cum_sales, maxfev=10000)\n",
        "\n",
        "# Extract parameters\n",
        "p, q, M = popt\n",
        "print(f'Estimated p: {p}, q: {q}, M: {M}')\n"
      ],
      "metadata": {
        "colab": {
          "base_uri": "https://localhost:8080/"
        },
        "id": "KwrNDYk534GG",
        "outputId": "8d5d5e94-7532-4d26-9616-0c17cd028581"
      },
      "execution_count": null,
      "outputs": [
        {
          "output_type": "stream",
          "name": "stdout",
          "text": [
            "Estimated p: 0.007991557331552258, q: 0.37418609613551096, M: 511.5739619282996\n"
          ]
        },
        {
          "output_type": "stream",
          "name": "stderr",
          "text": [
            "<ipython-input-7-ac0a403e5c8f>:3: RuntimeWarning: overflow encountered in exp\n",
            "  adoption = M * ((p + q)**2 / p) * np.exp(-(p + q) * t) / ((1 + (q / p) * np.exp(-(p + q) * t))**2)\n",
            "<ipython-input-7-ac0a403e5c8f>:3: RuntimeWarning: overflow encountered in square\n",
            "  adoption = M * ((p + q)**2 / p) * np.exp(-(p + q) * t) / ((1 + (q / p) * np.exp(-(p + q) * t))**2)\n",
            "<ipython-input-7-ac0a403e5c8f>:3: RuntimeWarning: invalid value encountered in divide\n",
            "  adoption = M * ((p + q)**2 / p) * np.exp(-(p + q) * t) / ((1 + (q / p) * np.exp(-(p + q) * t))**2)\n"
          ]
        }
      ]
    },
    {
      "cell_type": "code",
      "source": [
        "# Bass model functions for number of adoptions (f(t)) and cumulative adoptions (F(t))\n",
        "def bass_f(t, p, q):\n",
        "    return ((p + q)**2 / p) * np.exp(-(p + q) * t) / (1 + (q / p) * np.exp(-(p + q) * t))**2\n",
        "\n",
        "def bass_F(t, p, q):\n",
        "    return (1 - np.exp(-(p + q) * t)) / (1 + (q / p) * np.exp(-(p + q) * t))\n",
        "\n",
        "# Parameters from the Bass Model\n",
        "p = 0.00799\n",
        "q = 0.37419\n",
        "M = 511.57  # Market potential in billion yuan\n",
        "\n",
        "# Time period (e.g., next 20 years)\n",
        "t = np.arange(1, 21, 1)\n",
        "\n",
        "# Predict the number of adopters per year\n",
        "pred_adopters = bass_f(t, p, q) * M\n",
        "\n",
        "# Predict cumulative adoption over time\n",
        "pred_cumulative = bass_F(t, p, q) * M\n",
        "\n",
        "# Plot the results\n",
        "plt.figure(figsize=(15, 6))\n",
        "\n",
        "# Plot number of adopters\n",
        "plt.subplot(1, 2, 1)\n",
        "plt.plot(t, pred_adopters, marker='o', color='b')\n",
        "plt.title('Number of Adopters Over Time')\n",
        "plt.xlabel('Years')\n",
        "plt.ylabel('Number of Adopters (Billion Yuan)')\n",
        "plt.grid(True)\n",
        "\n",
        "# Plot cumulative adoption\n",
        "plt.subplot(1, 2, 2)\n",
        "plt.plot(t, pred_cumulative, marker='o', color='r')\n",
        "plt.title('Cumulative Adoption Over Time')\n",
        "plt.xlabel('Years')\n",
        "plt.ylabel('Cumulative Adoption (Billion Yuan)')\n",
        "plt.grid(True)\n",
        "\n",
        "plt.tight_layout()\n",
        "plt.show()"
      ],
      "metadata": {
        "colab": {
          "base_uri": "https://localhost:8080/",
          "height": 371
        },
        "id": "RitKf3fq2Rlq",
        "outputId": "f6b47d80-67ec-424e-a172-458360d17e68"
      },
      "execution_count": null,
      "outputs": [
        {
          "output_type": "display_data",
          "data": {
            "text/plain": [
              "<Figure size 1500x600 with 2 Axes>"
            ],
            "image/png": "[encoded data removed]"
          },
          "metadata": {}
        }
      ]
    },
    {
      "cell_type": "markdown",
      "source": [
        "# Key Insights from the Plots:\n",
        "\n",
        "**Number of Adopters Over Time:** It starts slow, peaks in the middle, and then declines as the market saturates. This peak indicates the period where the maximum number of new adopters join the market.\n",
        "\n",
        "**Cumulative Adoption Over Time:** This plot shows how the total number of adopters (cumulative adoption) approaches the market potential, 511.57 billion yuan. The curve flattens out as market saturation is reached.\n"
      ],
      "metadata": {
        "id": "xutJhkPs4De4"
      }
    },
    {
      "cell_type": "markdown",
      "source": [
        "# Analyze the market for baby feeding bottles in China"
      ],
      "metadata": {
        "id": "WW9gdKub5o7w"
      }
    },
    {
      "cell_type": "markdown",
      "source": [
        "## Based on our findings from Alibaba website, baby feeding bottles range between 13.33 yuan to 80.00 yuan. So, the average price of a baby feeding bottle in this range is approximately 46.67 yuan, it is reasonable to round this up to 50 yuan as a practical approximation."
      ],
      "metadata": {
        "id": "d4Ojw3NmvtFq"
      }
    },
    {
      "cell_type": "markdown",
      "source": [
        "From our data, the total market size in 2022 is 6.65 billion yuan. And we made an assumption that the average price is 50 yuan for standard baby bottles.\n",
        "\n",
        "# Using the total market size and the average price of a baby bottle:\n"
      ],
      "metadata": {
        "id": "bBTuG4FWxFYp"
      }
    },
    {
      "cell_type": "markdown",
      "source": [
        "## Units Sold = 6,650,000,000 / 50 = 133,000,000 units\n",
        "\n",
        "which is the total number of baby bottles sold in China in 2022."
      ],
      "metadata": {
        "id": "yAz6jlZy05K9"
      }
    },
    {
      "cell_type": "markdown",
      "source": [
        "As we know the Ember Baby Bottle System costs 1,866.60 yuan, which is significantly higher than the average price, assume 60% of the market can afford a product at this premium price\n",
        "\n",
        "## Affordable Units = 133,000,000 × 0.60 = 79,800,000 units"
      ],
      "metadata": {
        "id": "emOsA_B_z8ZE"
      }
    },
    {
      "cell_type": "markdown",
      "source": [
        "In China, a significant portion of the population is part of the growing middle class, which has higher purchasing power than before. As of recent economic trends, it’s estimated that 60% of consumers could afford to buy higher-priced products, especially in the baby care market, where parents are willing to invest in premium products for perceived safety, quality, and convenience. The rise of a wealthier urban population and dual-income households also supports this estimate​. (https://wpic.co/blog/top-5-mother-baby-care-market-trends-in-china-2023/)"
      ],
      "metadata": {
        "id": "xaVQufihzpqq"
      }
    },
    {
      "cell_type": "markdown",
      "source": [
        "Of those who can afford the premium product, assume that 20% will actually purchase the product:\n",
        "\n",
        "The assumption that 20% of those who can afford the premium product will actually purchase it is based on general consumer behavior in premium markets:\n",
        "\n",
        "\n",
        "## Potential Market = 79,800,000 × 0.20 = 15,960,000 units\n",
        "\n",
        "This means the potential market for a premium-priced baby feeding bottle like the Ember Baby Bottle System in China could be approximately 15.96 million units, based on price sensitivity and market penetration assumptions."
      ],
      "metadata": {
        "id": "yhjQ4kHrz47A"
      }
    },
    {
      "cell_type": "code",
      "source": [
        "# Calculate the number of new adopters for each year\n",
        "new_adopters = np.diff(pred_cumulative, prepend=0)\n",
        "\n",
        "# Print the number of new adopters each year\n",
        "for year, adopters in zip(t, new_adopters):\n",
        "    print(f\"Year {year}: {adopters:.2f} billion yuan\")\n"
      ],
      "metadata": {
        "colab": {
          "base_uri": "https://localhost:8080/"
        },
        "id": "OQFezpS420D2",
        "outputId": "bf832bd1-8615-4a53-ed1e-439b0098a134"
      },
      "execution_count": null,
      "outputs": [
        {
          "output_type": "stream",
          "name": "stdout",
          "text": [
            "Year 1: 4.93 billion yuan\n",
            "Year 2: 7.06 billion yuan\n",
            "Year 3: 9.99 billion yuan\n",
            "Year 4: 13.94 billion yuan\n",
            "Year 5: 19.05 billion yuan\n",
            "Year 6: 25.32 billion yuan\n",
            "Year 7: 32.41 billion yuan\n",
            "Year 8: 39.57 billion yuan\n",
            "Year 9: 45.61 billion yuan\n",
            "Year 10: 49.20 billion yuan\n",
            "Year 11: 49.43 billion yuan\n",
            "Year 12: 46.24 billion yuan\n",
            "Year 13: 40.45 billion yuan\n",
            "Year 14: 33.36 billion yuan\n",
            "Year 15: 26.20 billion yuan\n",
            "Year 16: 19.80 billion yuan\n",
            "Year 17: 14.54 billion yuan\n",
            "Year 18: 10.44 billion yuan\n",
            "Year 19: 7.39 billion yuan\n",
            "Year 20: 5.17 billion yuan\n"
          ]
        }
      ]
    },
    {
      "cell_type": "markdown",
      "source": [
        "**Peak Year:** Adoption peaks around Year 10, reaching 49.20 billion yuan. This is the period where the most significant number of new adopters join the market.\n",
        "\n",
        "**Decline After Year 11:** After Year 11, the number of new adopters starts to decline, which is typical of markets as they approach saturation. This reflects the fact that most of the potential market has already adopted the product by that point."
      ],
      "metadata": {
        "id": "iJUPltON4o2z"
      }
    }
  ]
}